{
 "cells": [
  {
   "cell_type": "markdown",
   "id": "2bf71324",
   "metadata": {},
   "source": [
    "# Data & Projekt extra tasks\n",
    "\n",
    "Just a couple of extra tasks if the weeks assignments weren't enough."
   ]
  },
  {
   "cell_type": "markdown",
   "id": "2052ac9a",
   "metadata": {},
   "source": [
    "## Plain Python\n",
    "\n",
    "Solve the first tasks using Python, but do not use $\\it{NumPy}$\n",
    "\n",
    "Calculate the sum of the first 5 prime numbers. (1 is not a prime number)"
   ]
  },
  {
   "cell_type": "code",
   "execution_count": 10,
   "id": "58e60125",
   "metadata": {},
   "outputs": [],
   "source": [
    "#Your answer here"
   ]
  },
  {
   "cell_type": "code",
   "execution_count": 9,
   "id": "9c79caa2",
   "metadata": {},
   "outputs": [],
   "source": [
    "assert _ == 28, 'Incorrect solution'"
   ]
  },
  {
   "cell_type": "markdown",
   "id": "7ea978d7",
   "metadata": {},
   "source": [
    "What is the area of a circle with diameter 11.11?"
   ]
  },
  {
   "cell_type": "code",
   "execution_count": 13,
   "id": "8b48eb60",
   "metadata": {},
   "outputs": [],
   "source": [
    "#Your answer here"
   ]
  },
  {
   "cell_type": "code",
   "execution_count": null,
   "id": "49e5b9ea",
   "metadata": {},
   "outputs": [],
   "source": [
    "assert 96 < _ < 97, 'Incorrect solution'"
   ]
  },
  {
   "cell_type": "code",
   "execution_count": 32,
   "id": "c9115166",
   "metadata": {},
   "outputs": [],
   "source": [
    "#Your answer here"
   ]
  },
  {
   "cell_type": "markdown",
   "id": "9c239ffc",
   "metadata": {},
   "source": [
    "What is the volume of a sphere with diameter 11.11?"
   ]
  },
  {
   "cell_type": "code",
   "execution_count": null,
   "id": "a6b970c1",
   "metadata": {},
   "outputs": [],
   "source": [
    "assert 717 < _ < 719, 'Incorrect solution'"
   ]
  },
  {
   "cell_type": "markdown",
   "id": "8d959bbf",
   "metadata": {},
   "source": [
    "Using a Taylor series expansion of $\\sin(x)$ around the point $x = 0$ to find the value of $\\sin(2)$. You can compare this result to Numpys numpy.sin() function. \n",
    "\n",
    "$$\\sin(x)  \n",
    "= \\sum_{n=0}^{\\infty} \\frac{(-1)^{n}x^{1+2n}}{(1+2n)!}\n",
    "\\approx x - \\frac{x^3}{6} + \\frac{x^5}{120} + O(x^7)$$\n",
    "\n",
    "You should use atleast 4 terms (order 7)"
   ]
  },
  {
   "cell_type": "code",
   "execution_count": 33,
   "id": "31559d43",
   "metadata": {},
   "outputs": [],
   "source": [
    "#Your answer here"
   ]
  },
  {
   "cell_type": "code",
   "execution_count": 29,
   "id": "d4ca409b",
   "metadata": {},
   "outputs": [],
   "source": [
    "assert 0.906 < _ < 0.910, 'Incorrect solution'"
   ]
  },
  {
   "cell_type": "markdown",
   "id": "0ac2e571",
   "metadata": {},
   "source": [
    "## NumPy\n",
    "\n",
    "Solve the following using $\\it{NumPy}$\n",
    "\n"
   ]
  },
  {
   "cell_type": "code",
   "execution_count": 34,
   "id": "b0ca8ef7",
   "metadata": {},
   "outputs": [],
   "source": [
    "import numpy as np"
   ]
  },
  {
   "cell_type": "markdown",
   "id": "df3713b8",
   "metadata": {},
   "source": [
    "What is the sum of all the integers in the interval [333, 1432]"
   ]
  },
  {
   "cell_type": "code",
   "execution_count": 39,
   "id": "86f3fdc3",
   "metadata": {},
   "outputs": [],
   "source": [
    "#Your answer here"
   ]
  },
  {
   "cell_type": "code",
   "execution_count": null,
   "id": "2d393d66",
   "metadata": {},
   "outputs": [],
   "source": [
    "assert _ == 970750, 'Incorrect solution'"
   ]
  },
  {
   "cell_type": "markdown",
   "id": "3a5bdbaf",
   "metadata": {},
   "source": [
    "In the same range, sum all the even numbers"
   ]
  },
  {
   "cell_type": "code",
   "execution_count": 57,
   "id": "79f8ef47",
   "metadata": {},
   "outputs": [],
   "source": [
    "#Your answer here"
   ]
  },
  {
   "cell_type": "code",
   "execution_count": null,
   "id": "4d31133e",
   "metadata": {},
   "outputs": [],
   "source": [
    "assert _ == 485650, 'Incorrect solution'"
   ]
  },
  {
   "cell_type": "markdown",
   "id": "f503d6b6",
   "metadata": {},
   "source": [
    "In the same range, sum all the odd numbers."
   ]
  },
  {
   "cell_type": "code",
   "execution_count": null,
   "id": "f7bc386f",
   "metadata": {},
   "outputs": [],
   "source": [
    "#Your answer here"
   ]
  },
  {
   "cell_type": "code",
   "execution_count": null,
   "id": "063e74cd",
   "metadata": {},
   "outputs": [],
   "source": [
    "assert _ == 485100, 'Incorrect solution'"
   ]
  },
  {
   "cell_type": "markdown",
   "id": "a3aed7e0",
   "metadata": {},
   "source": [
    "In the same range, sum all the odd numbers except those divisible by 5"
   ]
  },
  {
   "cell_type": "code",
   "execution_count": 75,
   "id": "4bc10a08",
   "metadata": {},
   "outputs": [],
   "source": [
    "#Your answer here"
   ]
  },
  {
   "cell_type": "code",
   "execution_count": 82,
   "id": "fefe284b",
   "metadata": {},
   "outputs": [],
   "source": [
    "assert _ == 388300, 'Incorrect solution'"
   ]
  },
  {
   "cell_type": "markdown",
   "id": "468a01d4",
   "metadata": {},
   "source": [
    "Produce a matrix size 10 by 10 that looks like\n",
    "\n",
    "$$\n",
    "\\begin{bmatrix}\n",
    "    1& -1& 1& -1& 1& -1& 1& -1& 1& -1\\\\\n",
    "    -1& 1& -1& 1& -1& 1& -1& 1& -1& 1\\\\\n",
    "    1& -1& 1& -1& 1& -1& 1& -1& 1& -1\\\\\n",
    "    -1& 1& -1& 1& -1& 1& -1& 1& -1& 1\\\\\n",
    "    1& -1& 1& -1& 1& -1& 1& -1& 1& -1\\\\\n",
    "    -1& 1& -1& 1& -1& 1& -1& 1& -1& 1\\\\\n",
    "    1& -1& 1& -1& 1& -1& 1& -1& 1& -1\\\\\n",
    "    -1& 1& -1& 1& -1& 1& -1& 1& -1& 1\\\\\n",
    "    1& -1& 1& -1& 1& -1& 1& -1& 1& -1\\\\\n",
    "    -1& 1& -1& 1& -1& 1& -1& 1& -1& 1\\\\\n",
    "\\end{bmatrix}\\quad.\n",
    "$$ \n",
    "\n",
    "Note that symmetric sub-matrix \n",
    "\n",
    "$$\\begin{bmatrix}\n",
    "1 & -1\\\\\n",
    "-1 & 1\\\\\n",
    "\\end{bmatrix}\\quad,$$\n",
    "\n",
    "is repeated."
   ]
  },
  {
   "cell_type": "code",
   "execution_count": 1,
   "id": "b05aa034",
   "metadata": {},
   "outputs": [],
   "source": [
    "#Your answer here"
   ]
  },
  {
   "cell_type": "code",
   "execution_count": null,
   "id": "374aff25",
   "metadata": {},
   "outputs": [],
   "source": [
    "assert _.shape == (10,10) and _[0,0] == 1 and _[1,0] == -1, 'Something is wrong'"
   ]
  },
  {
   "cell_type": "code",
   "execution_count": null,
   "id": "92050fc7",
   "metadata": {},
   "outputs": [],
   "source": []
  },
  {
   "cell_type": "code",
   "execution_count": null,
   "id": "7cb19fac",
   "metadata": {},
   "outputs": [],
   "source": []
  },
  {
   "cell_type": "code",
   "execution_count": null,
   "id": "ab8bf815",
   "metadata": {},
   "outputs": [],
   "source": []
  },
  {
   "cell_type": "code",
   "execution_count": null,
   "id": "b8686dfd",
   "metadata": {},
   "outputs": [],
   "source": []
  }
 ],
 "metadata": {
  "kernelspec": {
   "display_name": "Python 3",
   "language": "python",
   "name": "python3"
  },
  "language_info": {
   "codemirror_mode": {
    "name": "ipython",
    "version": 3
   },
   "file_extension": ".py",
   "mimetype": "text/x-python",
   "name": "python",
   "nbconvert_exporter": "python",
   "pygments_lexer": "ipython3",
   "version": "3.8.8"
  }
 },
 "nbformat": 4,
 "nbformat_minor": 5
}
